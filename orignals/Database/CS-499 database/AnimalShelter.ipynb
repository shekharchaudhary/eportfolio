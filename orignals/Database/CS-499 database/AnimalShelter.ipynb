{
 "cells": [
  {
   "cell_type": "code",
   "execution_count": 1,
   "metadata": {},
   "outputs": [],
   "source": [
    "from pymongo import MongoClient\n",
    "from bson.objectid import ObjectId"
   ]
  },
  {
   "cell_type": "code",
   "execution_count": null,
   "metadata": {},
   "outputs": [],
   "source": [
    "class AnimalShelter (object):\n",
    "    \"\"\" CRUD operations for Animal collection in MongoDB \"\"\"\n",
    "    \n",
    "    def __init__(self):\n",
    "        # Initializing the MongoClient. This helps to \n",
    "        # access the MongoDB databases and collections. \n",
    "        self.client = MongoClient('mongodb://%s:%s@localhost: 39329' % (\"aacuser\", \"shekhar1499\"))\n",
    "        self.database = self.client['AAC']"
   ]
  },
  {
   "cell_type": "code",
   "execution_count": null,
   "metadata": {},
   "outputs": [],
   "source": [
    "# Complete this create method to implement the C in CRUD\n",
    "\n",
    "def create(self, data):\n",
    "    if data is not None:\n",
    "        insert = self.database.animals.insert(data)  # data should be dictionary\n",
    "        if insert != 0:\n",
    "            return True\n",
    "        else:\n",
    "            return False\n",
    "    else:\n",
    "        raise Exception(\"Nothing to save, because data parameter is empty\")"
   ]
  },
  {
   "cell_type": "code",
   "execution_count": null,
   "metadata": {},
   "outputs": [],
   "source": [
    "# Complete this create method to implement the R in CRUD\n",
    "\n",
    "def read(self, criteria):\n",
    "    if criteria is not None:\n",
    "        data = self.database.animals.find(criteria)\n",
    "        for document in data:\n",
    "            print(document)\n",
    "    else:\n",
    "        raise Exception(\"Nothing to read, because data parameter is empty\")\n",
    "    \n",
    "    return data"
   ]
  },
  {
   "cell_type": "code",
   "execution_count": null,
   "metadata": {},
   "outputs": [],
   "source": [
    "# Complete this create method to implement the U in CRUD  \n",
    "def update(self, searchData, updateData):\n",
    "    if updateData is not None:\n",
    "        if searchData:\n",
    "            result = self.database.animals.update_one(searchData, updateData)\n",
    "    else:\n",
    "        raise Exception(\"Nothing to update, because data parameter is empty\")\n",
    "    # return the raw result of the update_one method\n",
    "    return result.raw_result"
   ]
  },
  {
   "cell_type": "code",
   "execution_count": null,
   "metadata": {},
   "outputs": [],
   "source": [
    "# Complete this create method to implement the D in CRUD\n",
    "def delete(self, deleteData):\n",
    "    if deleteData is not None:\n",
    "        result = self.database.animals.delete_one(deleteData)\n",
    "    else:\n",
    "        raise Exception(\"Nothing to delete, because data parameter is empty\")\n",
    "    return result.raw_result\n",
    "                "
   ]
  }
 ],
 "metadata": {
  "kernelspec": {
   "display_name": "Python 3",
   "language": "python",
   "name": "python3"
  },
  "language_info": {
   "codemirror_mode": {
    "name": "ipython",
    "version": 3
   },
   "file_extension": ".py",
   "mimetype": "text/x-python",
   "name": "python",
   "nbconvert_exporter": "python",
   "pygments_lexer": "ipython3",
   "version": "3.6.9"
  }
 },
 "nbformat": 4,
 "nbformat_minor": 2
}
